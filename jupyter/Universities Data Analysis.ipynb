{
 "cells": [
  {
   "cell_type": "markdown",
   "metadata": {},
   "source": [
    "# Universities Data Analysis"
   ]
  },
  {
   "cell_type": "markdown",
   "metadata": {},
   "source": [
    "## Importing Dependencies"
   ]
  },
  {
   "cell_type": "code",
   "execution_count": 1,
   "metadata": {},
   "outputs": [],
   "source": [
    "import sqlalchemy\n",
    "import pandas as pd\n",
    "from pandas_dedupe import dedupe_dataframe"
   ]
  },
  {
   "cell_type": "markdown",
   "metadata": {},
   "source": [
    "We will be using:\n",
    "\n",
    "- `sqlalchemy` to create a connection to the database.\n",
    "- `pandas` to load SQL data to dataframes and do data manipulation.\n",
    "- [`pandas-dedupe`](https://pypi.org/project/pandas-dedupe/) to assist us with de-duplication (particularly the \"subject\" column)."
   ]
  },
  {
   "cell_type": "markdown",
   "metadata": {},
   "source": [
    "## Creating a Database Connection"
   ]
  },
  {
   "cell_type": "code",
   "execution_count": 2,
   "metadata": {},
   "outputs": [],
   "source": [
    "def create_engine(username, password, hostname, port, database):\n",
    "    uri = f'postgresql://{username}:{password}@{hostname}:{port}/{database}'\n",
    "    return sqlalchemy.create_engine(uri)\n",
    "\n",
    "engine = create_engine('postgres', 'postgres', 'localhost', 5432, 'universities')"
   ]
  },
  {
   "cell_type": "markdown",
   "metadata": {},
   "source": [
    "## Loading the Data from the Database"
   ]
  },
  {
   "cell_type": "code",
   "execution_count": 3,
   "metadata": {},
   "outputs": [
    {
     "data": {
      "text/html": [
       "<div>\n",
       "<style scoped>\n",
       "    .dataframe tbody tr th:only-of-type {\n",
       "        vertical-align: middle;\n",
       "    }\n",
       "\n",
       "    .dataframe tbody tr th {\n",
       "        vertical-align: top;\n",
       "    }\n",
       "\n",
       "    .dataframe thead th {\n",
       "        text-align: right;\n",
       "    }\n",
       "</style>\n",
       "<table border=\"1\" class=\"dataframe\">\n",
       "  <thead>\n",
       "    <tr style=\"text-align: right;\">\n",
       "      <th></th>\n",
       "      <th>first_name</th>\n",
       "      <th>last_name</th>\n",
       "      <th>subject</th>\n",
       "      <th>grade</th>\n",
       "      <th>university</th>\n",
       "    </tr>\n",
       "  </thead>\n",
       "  <tbody>\n",
       "    <tr>\n",
       "      <th>7822</th>\n",
       "      <td>gprozlpunq</td>\n",
       "      <td>n</td>\n",
       "      <td>Biology</td>\n",
       "      <td>16.0</td>\n",
       "      <td>uni2</td>\n",
       "    </tr>\n",
       "    <tr>\n",
       "      <th>17098</th>\n",
       "      <td>v</td>\n",
       "      <td>ob</td>\n",
       "      <td>Soc. Studies</td>\n",
       "      <td>None</td>\n",
       "      <td>uni3</td>\n",
       "    </tr>\n",
       "    <tr>\n",
       "      <th>6398</th>\n",
       "      <td>sdgc</td>\n",
       "      <td>z</td>\n",
       "      <td>Biology</td>\n",
       "      <td>49.0</td>\n",
       "      <td>uni2</td>\n",
       "    </tr>\n",
       "    <tr>\n",
       "      <th>18307</th>\n",
       "      <td>axd</td>\n",
       "      <td>tsmfriv</td>\n",
       "      <td>Bus. Administration</td>\n",
       "      <td>45.0</td>\n",
       "      <td>uni3</td>\n",
       "    </tr>\n",
       "    <tr>\n",
       "      <th>4810</th>\n",
       "      <td>scv</td>\n",
       "      <td>ecbq</td>\n",
       "      <td>Music</td>\n",
       "      <td>None</td>\n",
       "      <td>uni1</td>\n",
       "    </tr>\n",
       "    <tr>\n",
       "      <th>4529</th>\n",
       "      <td>qaj</td>\n",
       "      <td>mdwzzjswx</td>\n",
       "      <td>History</td>\n",
       "      <td>C</td>\n",
       "      <td>uni1</td>\n",
       "    </tr>\n",
       "    <tr>\n",
       "      <th>16174</th>\n",
       "      <td>aktzvzmhne</td>\n",
       "      <td>ocpinx</td>\n",
       "      <td>Soc. Studies</td>\n",
       "      <td>49.0</td>\n",
       "      <td>uni3</td>\n",
       "    </tr>\n",
       "    <tr>\n",
       "      <th>18878</th>\n",
       "      <td>ptozk</td>\n",
       "      <td>uahzbppl</td>\n",
       "      <td>Mathematics</td>\n",
       "      <td>36.0</td>\n",
       "      <td>uni3</td>\n",
       "    </tr>\n",
       "    <tr>\n",
       "      <th>247</th>\n",
       "      <td>twru</td>\n",
       "      <td>blrnrg</td>\n",
       "      <td>Physics</td>\n",
       "      <td>C</td>\n",
       "      <td>uni1</td>\n",
       "    </tr>\n",
       "    <tr>\n",
       "      <th>1365</th>\n",
       "      <td>rn</td>\n",
       "      <td>naitbjikq</td>\n",
       "      <td>Art</td>\n",
       "      <td>F</td>\n",
       "      <td>uni1</td>\n",
       "    </tr>\n",
       "    <tr>\n",
       "      <th>5831</th>\n",
       "      <td>gcou</td>\n",
       "      <td>lklejvalv</td>\n",
       "      <td>History</td>\n",
       "      <td>D+</td>\n",
       "      <td>uni1</td>\n",
       "    </tr>\n",
       "    <tr>\n",
       "      <th>10902</th>\n",
       "      <td>wyq</td>\n",
       "      <td>sv</td>\n",
       "      <td>Biology</td>\n",
       "      <td>96.0</td>\n",
       "      <td>uni2</td>\n",
       "    </tr>\n",
       "  </tbody>\n",
       "</table>\n",
       "</div>"
      ],
      "text/plain": [
       "       first_name  last_name              subject grade university\n",
       "7822   gprozlpunq          n              Biology  16.0       uni2\n",
       "17098           v         ob         Soc. Studies  None       uni3\n",
       "6398         sdgc          z              Biology  49.0       uni2\n",
       "18307         axd    tsmfriv  Bus. Administration  45.0       uni3\n",
       "4810          scv       ecbq                Music  None       uni1\n",
       "4529          qaj  mdwzzjswx              History     C       uni1\n",
       "16174  aktzvzmhne     ocpinx         Soc. Studies  49.0       uni3\n",
       "18878       ptozk   uahzbppl          Mathematics  36.0       uni3\n",
       "247          twru     blrnrg              Physics     C       uni1\n",
       "1365           rn  naitbjikq                  Art     F       uni1\n",
       "5831         gcou  lklejvalv              History    D+       uni1\n",
       "10902         wyq         sv              Biology  96.0       uni2"
      ]
     },
     "execution_count": 3,
     "metadata": {},
     "output_type": "execute_result"
    }
   ],
   "source": [
    "raw_grades_df = pd.read_sql_query('SELECT * FROM raw_grades', engine)\n",
    "raw_grades_df.sample(n=12)"
   ]
  },
  {
   "cell_type": "code",
   "execution_count": 4,
   "metadata": {},
   "outputs": [
    {
     "data": {
      "text/plain": [
       "(20480, 5)"
      ]
     },
     "execution_count": 4,
     "metadata": {},
     "output_type": "execute_result"
    }
   ],
   "source": [
    "raw_grades_df.shape"
   ]
  },
  {
   "cell_type": "markdown",
   "metadata": {},
   "source": [
    "We have over 20K records in total."
   ]
  },
  {
   "cell_type": "markdown",
   "metadata": {},
   "source": [
    "## De-duplicating Records"
   ]
  },
  {
   "cell_type": "code",
   "execution_count": 5,
   "metadata": {},
   "outputs": [
    {
     "data": {
      "text/html": [
       "<div>\n",
       "<style scoped>\n",
       "    .dataframe tbody tr th:only-of-type {\n",
       "        vertical-align: middle;\n",
       "    }\n",
       "\n",
       "    .dataframe tbody tr th {\n",
       "        vertical-align: top;\n",
       "    }\n",
       "\n",
       "    .dataframe thead th {\n",
       "        text-align: right;\n",
       "    }\n",
       "</style>\n",
       "<table border=\"1\" class=\"dataframe\">\n",
       "  <thead>\n",
       "    <tr style=\"text-align: right;\">\n",
       "      <th></th>\n",
       "      <th>subject</th>\n",
       "    </tr>\n",
       "  </thead>\n",
       "  <tbody>\n",
       "    <tr>\n",
       "      <th>0</th>\n",
       "      <td>Economics</td>\n",
       "    </tr>\n",
       "    <tr>\n",
       "      <th>1</th>\n",
       "      <td>Art</td>\n",
       "    </tr>\n",
       "    <tr>\n",
       "      <th>2</th>\n",
       "      <td>Soc. Studies</td>\n",
       "    </tr>\n",
       "    <tr>\n",
       "      <th>3</th>\n",
       "      <td>History</td>\n",
       "    </tr>\n",
       "    <tr>\n",
       "      <th>4</th>\n",
       "      <td>Music</td>\n",
       "    </tr>\n",
       "    <tr>\n",
       "      <th>5</th>\n",
       "      <td>Computer Science</td>\n",
       "    </tr>\n",
       "    <tr>\n",
       "      <th>6</th>\n",
       "      <td>Soc Studies</td>\n",
       "    </tr>\n",
       "    <tr>\n",
       "      <th>7</th>\n",
       "      <td>Bus. Administration</td>\n",
       "    </tr>\n",
       "    <tr>\n",
       "      <th>8</th>\n",
       "      <td>Social Studies</td>\n",
       "    </tr>\n",
       "    <tr>\n",
       "      <th>9</th>\n",
       "      <td>Biology</td>\n",
       "    </tr>\n",
       "    <tr>\n",
       "      <th>10</th>\n",
       "      <td>Ancient History</td>\n",
       "    </tr>\n",
       "    <tr>\n",
       "      <th>11</th>\n",
       "      <td>Neural Networks</td>\n",
       "    </tr>\n",
       "    <tr>\n",
       "      <th>12</th>\n",
       "      <td>Mathematics</td>\n",
       "    </tr>\n",
       "    <tr>\n",
       "      <th>13</th>\n",
       "      <td>Maths</td>\n",
       "    </tr>\n",
       "    <tr>\n",
       "      <th>14</th>\n",
       "      <td>Physics</td>\n",
       "    </tr>\n",
       "  </tbody>\n",
       "</table>\n",
       "</div>"
      ],
      "text/plain": [
       "                subject\n",
       "0             Economics\n",
       "1                   Art\n",
       "2          Soc. Studies\n",
       "3               History\n",
       "4                 Music\n",
       "5      Computer Science\n",
       "6           Soc Studies\n",
       "7   Bus. Administration\n",
       "8        Social Studies\n",
       "9               Biology\n",
       "10      Ancient History\n",
       "11      Neural Networks\n",
       "12          Mathematics\n",
       "13                Maths\n",
       "14              Physics"
      ]
     },
     "execution_count": 5,
     "metadata": {},
     "output_type": "execute_result"
    }
   ],
   "source": [
    "subjects_df = pd.read_sql_query('SELECT DISTINCT(subject) FROM raw_grades', engine)\n",
    "subjects_df"
   ]
  },
  {
   "cell_type": "markdown",
   "metadata": {},
   "source": [
    "These are all the distinct values from \"subject\" encountered in the data. Given the small volume of data, it's pretty straight-forward to do deduplication in this case, but we need to find a method that scales for larger amounts of data. For this reaason, we will be using `pandas-dedupe`:"
   ]
  },
  {
   "cell_type": "code",
   "execution_count": 6,
   "metadata": {},
   "outputs": [
    {
     "name": "stdout",
     "output_type": "stream",
     "text": [
      "Importing data ...\n",
      "Reading from dedupe_dataframe_learned_settings\n",
      "Clustering...\n"
     ]
    },
    {
     "name": "stderr",
     "output_type": "stream",
     "text": [
      "/home/franco/PycharmProjects/kheiron-medical/university-pipeline/.venv/lib/python3.8/site-packages/pandas_dedupe/utility_functions.py:17: FutureWarning: The default value of regex will change from True to False in a future version.\n",
      "  df[i] = df[i].str.replace('[^\\w\\s\\.\\-\\(\\)\\,\\:\\/\\\\\\\\]','')\n"
     ]
    },
    {
     "name": "stdout",
     "output_type": "stream",
     "text": [
      "# duplicate sets 13\n"
     ]
    }
   ],
   "source": [
    "subjects_df = dedupe_dataframe(subjects_df, ['subject'], canonicalize=True)"
   ]
  },
  {
   "cell_type": "markdown",
   "metadata": {},
   "source": [
    "The warning `FutureWarning` is harmless (for now) and it's due to `pandas` deprecation. That's the result of applying de-duplication over a list of distinct subjects:"
   ]
  },
  {
   "cell_type": "code",
   "execution_count": 7,
   "metadata": {},
   "outputs": [
    {
     "data": {
      "text/html": [
       "<div>\n",
       "<style scoped>\n",
       "    .dataframe tbody tr th:only-of-type {\n",
       "        vertical-align: middle;\n",
       "    }\n",
       "\n",
       "    .dataframe tbody tr th {\n",
       "        vertical-align: top;\n",
       "    }\n",
       "\n",
       "    .dataframe thead th {\n",
       "        text-align: right;\n",
       "    }\n",
       "</style>\n",
       "<table border=\"1\" class=\"dataframe\">\n",
       "  <thead>\n",
       "    <tr style=\"text-align: right;\">\n",
       "      <th></th>\n",
       "      <th>subject</th>\n",
       "      <th>cluster id</th>\n",
       "      <th>confidence</th>\n",
       "      <th>canonical_subject</th>\n",
       "    </tr>\n",
       "  </thead>\n",
       "  <tbody>\n",
       "    <tr>\n",
       "      <th>0</th>\n",
       "      <td>economics</td>\n",
       "      <td>1</td>\n",
       "      <td>1.000000</td>\n",
       "      <td>economics</td>\n",
       "    </tr>\n",
       "    <tr>\n",
       "      <th>1</th>\n",
       "      <td>art</td>\n",
       "      <td>2</td>\n",
       "      <td>1.000000</td>\n",
       "      <td>art</td>\n",
       "    </tr>\n",
       "    <tr>\n",
       "      <th>2</th>\n",
       "      <td>soc. studies</td>\n",
       "      <td>0</td>\n",
       "      <td>0.986414</td>\n",
       "      <td>soc studies</td>\n",
       "    </tr>\n",
       "    <tr>\n",
       "      <th>3</th>\n",
       "      <td>history</td>\n",
       "      <td>3</td>\n",
       "      <td>1.000000</td>\n",
       "      <td>history</td>\n",
       "    </tr>\n",
       "    <tr>\n",
       "      <th>4</th>\n",
       "      <td>music</td>\n",
       "      <td>4</td>\n",
       "      <td>1.000000</td>\n",
       "      <td>music</td>\n",
       "    </tr>\n",
       "    <tr>\n",
       "      <th>5</th>\n",
       "      <td>computer science</td>\n",
       "      <td>5</td>\n",
       "      <td>1.000000</td>\n",
       "      <td>computer science</td>\n",
       "    </tr>\n",
       "    <tr>\n",
       "      <th>6</th>\n",
       "      <td>soc studies</td>\n",
       "      <td>0</td>\n",
       "      <td>0.999482</td>\n",
       "      <td>soc studies</td>\n",
       "    </tr>\n",
       "    <tr>\n",
       "      <th>7</th>\n",
       "      <td>bus. administration</td>\n",
       "      <td>6</td>\n",
       "      <td>1.000000</td>\n",
       "      <td>bus. administration</td>\n",
       "    </tr>\n",
       "    <tr>\n",
       "      <th>8</th>\n",
       "      <td>social studies</td>\n",
       "      <td>0</td>\n",
       "      <td>0.986404</td>\n",
       "      <td>soc studies</td>\n",
       "    </tr>\n",
       "    <tr>\n",
       "      <th>9</th>\n",
       "      <td>biology</td>\n",
       "      <td>7</td>\n",
       "      <td>1.000000</td>\n",
       "      <td>biology</td>\n",
       "    </tr>\n",
       "    <tr>\n",
       "      <th>10</th>\n",
       "      <td>ancient history</td>\n",
       "      <td>8</td>\n",
       "      <td>1.000000</td>\n",
       "      <td>ancient history</td>\n",
       "    </tr>\n",
       "    <tr>\n",
       "      <th>11</th>\n",
       "      <td>neural networks</td>\n",
       "      <td>9</td>\n",
       "      <td>1.000000</td>\n",
       "      <td>neural networks</td>\n",
       "    </tr>\n",
       "    <tr>\n",
       "      <th>12</th>\n",
       "      <td>mathematics</td>\n",
       "      <td>10</td>\n",
       "      <td>1.000000</td>\n",
       "      <td>mathematics</td>\n",
       "    </tr>\n",
       "    <tr>\n",
       "      <th>13</th>\n",
       "      <td>maths</td>\n",
       "      <td>11</td>\n",
       "      <td>1.000000</td>\n",
       "      <td>maths</td>\n",
       "    </tr>\n",
       "    <tr>\n",
       "      <th>14</th>\n",
       "      <td>physics</td>\n",
       "      <td>12</td>\n",
       "      <td>1.000000</td>\n",
       "      <td>physics</td>\n",
       "    </tr>\n",
       "  </tbody>\n",
       "</table>\n",
       "</div>"
      ],
      "text/plain": [
       "                subject  cluster id  confidence    canonical_subject\n",
       "0             economics           1    1.000000            economics\n",
       "1                   art           2    1.000000                  art\n",
       "2          soc. studies           0    0.986414          soc studies\n",
       "3               history           3    1.000000              history\n",
       "4                 music           4    1.000000                music\n",
       "5      computer science           5    1.000000     computer science\n",
       "6           soc studies           0    0.999482          soc studies\n",
       "7   bus. administration           6    1.000000  bus. administration\n",
       "8        social studies           0    0.986404          soc studies\n",
       "9               biology           7    1.000000              biology\n",
       "10      ancient history           8    1.000000      ancient history\n",
       "11      neural networks           9    1.000000      neural networks\n",
       "12          mathematics          10    1.000000          mathematics\n",
       "13                maths          11    1.000000                maths\n",
       "14              physics          12    1.000000              physics"
      ]
     },
     "execution_count": 7,
     "metadata": {},
     "output_type": "execute_result"
    }
   ],
   "source": [
    "subjects_df"
   ]
  },
  {
   "cell_type": "markdown",
   "metadata": {},
   "source": [
    "The package was unable to match \"maths\" and \"mathematics\", so we can set this manually:"
   ]
  },
  {
   "cell_type": "code",
   "execution_count": 8,
   "metadata": {},
   "outputs": [
    {
     "data": {
      "text/html": [
       "<div>\n",
       "<style scoped>\n",
       "    .dataframe tbody tr th:only-of-type {\n",
       "        vertical-align: middle;\n",
       "    }\n",
       "\n",
       "    .dataframe tbody tr th {\n",
       "        vertical-align: top;\n",
       "    }\n",
       "\n",
       "    .dataframe thead th {\n",
       "        text-align: right;\n",
       "    }\n",
       "</style>\n",
       "<table border=\"1\" class=\"dataframe\">\n",
       "  <thead>\n",
       "    <tr style=\"text-align: right;\">\n",
       "      <th></th>\n",
       "      <th>subject</th>\n",
       "      <th>cluster id</th>\n",
       "      <th>confidence</th>\n",
       "      <th>canonical_subject</th>\n",
       "    </tr>\n",
       "  </thead>\n",
       "  <tbody>\n",
       "    <tr>\n",
       "      <th>0</th>\n",
       "      <td>economics</td>\n",
       "      <td>1</td>\n",
       "      <td>1.000000</td>\n",
       "      <td>economics</td>\n",
       "    </tr>\n",
       "    <tr>\n",
       "      <th>1</th>\n",
       "      <td>art</td>\n",
       "      <td>2</td>\n",
       "      <td>1.000000</td>\n",
       "      <td>art</td>\n",
       "    </tr>\n",
       "    <tr>\n",
       "      <th>2</th>\n",
       "      <td>soc. studies</td>\n",
       "      <td>0</td>\n",
       "      <td>0.986414</td>\n",
       "      <td>soc studies</td>\n",
       "    </tr>\n",
       "    <tr>\n",
       "      <th>3</th>\n",
       "      <td>history</td>\n",
       "      <td>3</td>\n",
       "      <td>1.000000</td>\n",
       "      <td>history</td>\n",
       "    </tr>\n",
       "    <tr>\n",
       "      <th>4</th>\n",
       "      <td>music</td>\n",
       "      <td>4</td>\n",
       "      <td>1.000000</td>\n",
       "      <td>music</td>\n",
       "    </tr>\n",
       "    <tr>\n",
       "      <th>5</th>\n",
       "      <td>computer science</td>\n",
       "      <td>5</td>\n",
       "      <td>1.000000</td>\n",
       "      <td>computer science</td>\n",
       "    </tr>\n",
       "    <tr>\n",
       "      <th>6</th>\n",
       "      <td>soc studies</td>\n",
       "      <td>0</td>\n",
       "      <td>0.999482</td>\n",
       "      <td>soc studies</td>\n",
       "    </tr>\n",
       "    <tr>\n",
       "      <th>7</th>\n",
       "      <td>bus. administration</td>\n",
       "      <td>6</td>\n",
       "      <td>1.000000</td>\n",
       "      <td>bus. administration</td>\n",
       "    </tr>\n",
       "    <tr>\n",
       "      <th>8</th>\n",
       "      <td>social studies</td>\n",
       "      <td>0</td>\n",
       "      <td>0.986404</td>\n",
       "      <td>soc studies</td>\n",
       "    </tr>\n",
       "    <tr>\n",
       "      <th>9</th>\n",
       "      <td>biology</td>\n",
       "      <td>7</td>\n",
       "      <td>1.000000</td>\n",
       "      <td>biology</td>\n",
       "    </tr>\n",
       "    <tr>\n",
       "      <th>10</th>\n",
       "      <td>ancient history</td>\n",
       "      <td>8</td>\n",
       "      <td>1.000000</td>\n",
       "      <td>ancient history</td>\n",
       "    </tr>\n",
       "    <tr>\n",
       "      <th>11</th>\n",
       "      <td>neural networks</td>\n",
       "      <td>9</td>\n",
       "      <td>1.000000</td>\n",
       "      <td>neural networks</td>\n",
       "    </tr>\n",
       "    <tr>\n",
       "      <th>12</th>\n",
       "      <td>mathematics</td>\n",
       "      <td>10</td>\n",
       "      <td>1.000000</td>\n",
       "      <td>mathematics</td>\n",
       "    </tr>\n",
       "    <tr>\n",
       "      <th>13</th>\n",
       "      <td>maths</td>\n",
       "      <td>11</td>\n",
       "      <td>1.000000</td>\n",
       "      <td>mathematics</td>\n",
       "    </tr>\n",
       "    <tr>\n",
       "      <th>14</th>\n",
       "      <td>physics</td>\n",
       "      <td>12</td>\n",
       "      <td>1.000000</td>\n",
       "      <td>physics</td>\n",
       "    </tr>\n",
       "  </tbody>\n",
       "</table>\n",
       "</div>"
      ],
      "text/plain": [
       "                subject  cluster id  confidence    canonical_subject\n",
       "0             economics           1    1.000000            economics\n",
       "1                   art           2    1.000000                  art\n",
       "2          soc. studies           0    0.986414          soc studies\n",
       "3               history           3    1.000000              history\n",
       "4                 music           4    1.000000                music\n",
       "5      computer science           5    1.000000     computer science\n",
       "6           soc studies           0    0.999482          soc studies\n",
       "7   bus. administration           6    1.000000  bus. administration\n",
       "8        social studies           0    0.986404          soc studies\n",
       "9               biology           7    1.000000              biology\n",
       "10      ancient history           8    1.000000      ancient history\n",
       "11      neural networks           9    1.000000      neural networks\n",
       "12          mathematics          10    1.000000          mathematics\n",
       "13                maths          11    1.000000          mathematics\n",
       "14              physics          12    1.000000              physics"
      ]
     },
     "execution_count": 8,
     "metadata": {},
     "output_type": "execute_result"
    }
   ],
   "source": [
    "subjects_df.loc[subjects_df['canonical_subject'] == 'maths', 'canonical_subject'] = 'mathematics'\n",
    "subjects_df"
   ]
  },
  {
   "cell_type": "markdown",
   "metadata": {},
   "source": [
    "We will save this dataframe to a table named \"subjects\" to de-duplicate the table \"raw_grades\":"
   ]
  },
  {
   "cell_type": "code",
   "execution_count": 9,
   "metadata": {},
   "outputs": [],
   "source": [
    "subjects_df.to_sql('subjects', engine, if_exists= 'replace')"
   ]
  },
  {
   "cell_type": "markdown",
   "metadata": {},
   "source": [
    "We will create a new table named \"grades\" which is de-duplicated:"
   ]
  },
  {
   "cell_type": "code",
   "execution_count": 10,
   "metadata": {},
   "outputs": [
    {
     "data": {
      "text/plain": [
       "<sqlalchemy.engine.result.ResultProxy at 0x7fc50b6a4a30>"
      ]
     },
     "execution_count": 10,
     "metadata": {},
     "output_type": "execute_result"
    }
   ],
   "source": [
    "engine.execute(\n",
    "    \"\"\"\n",
    "    DROP TABLE IF EXISTS grades;\n",
    "    CREATE TABLE grades (\n",
    "    university VARCHAR(30),\n",
    "    first_name VARCHAR(30),\n",
    "    last_name VARCHAR(30),\n",
    "    subject VARCHAR(30),\n",
    "    grade VARCHAR (10));\n",
    "    \"\"\" \n",
    ")"
   ]
  },
  {
   "cell_type": "code",
   "execution_count": 11,
   "metadata": {},
   "outputs": [
    {
     "data": {
      "text/plain": [
       "<sqlalchemy.engine.result.ResultProxy at 0x7fc50bd4a2e0>"
      ]
     },
     "execution_count": 11,
     "metadata": {},
     "output_type": "execute_result"
    }
   ],
   "source": [
    "engine.execute(\n",
    "    \"\"\"\n",
    "    INSERT INTO grades(first_name, last_name, subject, grade, university)\n",
    "    SELECT rg.first_name, rg.last_name, sb.canonical_subject, rg.grade, rg.university\n",
    "    FROM raw_grades rg, subjects sb\n",
    "    WHERE LOWER(rg.subject) = sb.subject;\n",
    "    \"\"\")"
   ]
  },
  {
   "cell_type": "code",
   "execution_count": 12,
   "metadata": {},
   "outputs": [
    {
     "data": {
      "text/html": [
       "<div>\n",
       "<style scoped>\n",
       "    .dataframe tbody tr th:only-of-type {\n",
       "        vertical-align: middle;\n",
       "    }\n",
       "\n",
       "    .dataframe tbody tr th {\n",
       "        vertical-align: top;\n",
       "    }\n",
       "\n",
       "    .dataframe thead th {\n",
       "        text-align: right;\n",
       "    }\n",
       "</style>\n",
       "<table border=\"1\" class=\"dataframe\">\n",
       "  <thead>\n",
       "    <tr style=\"text-align: right;\">\n",
       "      <th></th>\n",
       "      <th>university</th>\n",
       "      <th>first_name</th>\n",
       "      <th>last_name</th>\n",
       "      <th>subject</th>\n",
       "      <th>grade</th>\n",
       "    </tr>\n",
       "  </thead>\n",
       "  <tbody>\n",
       "    <tr>\n",
       "      <th>16257</th>\n",
       "      <td>uni2</td>\n",
       "      <td>wgznsmsmys</td>\n",
       "      <td>fvgmnwwkeh</td>\n",
       "      <td>physics</td>\n",
       "      <td>91.0</td>\n",
       "    </tr>\n",
       "    <tr>\n",
       "      <th>4165</th>\n",
       "      <td>uni3</td>\n",
       "      <td>flnlgibx</td>\n",
       "      <td>rerhcngcp</td>\n",
       "      <td>bus. administration</td>\n",
       "      <td>64.0</td>\n",
       "    </tr>\n",
       "    <tr>\n",
       "      <th>9355</th>\n",
       "      <td>uni3</td>\n",
       "      <td>jrkw</td>\n",
       "      <td>avpi</td>\n",
       "      <td>mathematics</td>\n",
       "      <td>84.0</td>\n",
       "    </tr>\n",
       "    <tr>\n",
       "      <th>10881</th>\n",
       "      <td>uni1</td>\n",
       "      <td>nchl</td>\n",
       "      <td>kdvmrwwpke</td>\n",
       "      <td>mathematics</td>\n",
       "      <td>B</td>\n",
       "    </tr>\n",
       "    <tr>\n",
       "      <th>20330</th>\n",
       "      <td>uni3</td>\n",
       "      <td>glcqe</td>\n",
       "      <td>otdqi</td>\n",
       "      <td>soc studies</td>\n",
       "      <td>84.0</td>\n",
       "    </tr>\n",
       "    <tr>\n",
       "      <th>3298</th>\n",
       "      <td>uni2</td>\n",
       "      <td>esurqnzmvj</td>\n",
       "      <td>peuzdylw</td>\n",
       "      <td>biology</td>\n",
       "      <td>8.0</td>\n",
       "    </tr>\n",
       "    <tr>\n",
       "      <th>19762</th>\n",
       "      <td>uni3</td>\n",
       "      <td>luupkbomvt</td>\n",
       "      <td>vppwvjb</td>\n",
       "      <td>soc studies</td>\n",
       "      <td>82.0</td>\n",
       "    </tr>\n",
       "    <tr>\n",
       "      <th>18671</th>\n",
       "      <td>uni2</td>\n",
       "      <td>f</td>\n",
       "      <td>ckbedmxth</td>\n",
       "      <td>soc studies</td>\n",
       "      <td>24.0</td>\n",
       "    </tr>\n",
       "    <tr>\n",
       "      <th>5157</th>\n",
       "      <td>uni3</td>\n",
       "      <td>td</td>\n",
       "      <td>lcyue</td>\n",
       "      <td>computer science</td>\n",
       "      <td>8.0</td>\n",
       "    </tr>\n",
       "    <tr>\n",
       "      <th>16368</th>\n",
       "      <td>uni3</td>\n",
       "      <td>hahwsnn</td>\n",
       "      <td>bdaa</td>\n",
       "      <td>physics</td>\n",
       "      <td>14.0</td>\n",
       "    </tr>\n",
       "    <tr>\n",
       "      <th>4200</th>\n",
       "      <td>uni3</td>\n",
       "      <td>ezrsu</td>\n",
       "      <td>gugqr</td>\n",
       "      <td>bus. administration</td>\n",
       "      <td>51.0</td>\n",
       "    </tr>\n",
       "    <tr>\n",
       "      <th>4163</th>\n",
       "      <td>uni3</td>\n",
       "      <td>uipjzvict</td>\n",
       "      <td>h</td>\n",
       "      <td>bus. administration</td>\n",
       "      <td>97.0</td>\n",
       "    </tr>\n",
       "  </tbody>\n",
       "</table>\n",
       "</div>"
      ],
      "text/plain": [
       "      university  first_name   last_name              subject grade\n",
       "16257       uni2  wgznsmsmys  fvgmnwwkeh              physics  91.0\n",
       "4165        uni3    flnlgibx   rerhcngcp  bus. administration  64.0\n",
       "9355        uni3        jrkw        avpi          mathematics  84.0\n",
       "10881       uni1        nchl  kdvmrwwpke          mathematics     B\n",
       "20330       uni3       glcqe       otdqi          soc studies  84.0\n",
       "3298        uni2  esurqnzmvj    peuzdylw              biology   8.0\n",
       "19762       uni3  luupkbomvt     vppwvjb          soc studies  82.0\n",
       "18671       uni2           f   ckbedmxth          soc studies  24.0\n",
       "5157        uni3          td       lcyue     computer science   8.0\n",
       "16368       uni3     hahwsnn        bdaa              physics  14.0\n",
       "4200        uni3       ezrsu       gugqr  bus. administration  51.0\n",
       "4163        uni3   uipjzvict           h  bus. administration  97.0"
      ]
     },
     "execution_count": 12,
     "metadata": {},
     "output_type": "execute_result"
    }
   ],
   "source": [
    "grades_df = pd.read_sql_query('SELECT * FROM grades', engine)\n",
    "grades_df.sample(n=12)"
   ]
  },
  {
   "cell_type": "code",
   "execution_count": 13,
   "metadata": {},
   "outputs": [
    {
     "data": {
      "text/plain": [
       "(20480, 5)"
      ]
     },
     "execution_count": 13,
     "metadata": {},
     "output_type": "execute_result"
    }
   ],
   "source": [
    "grades_df.shape"
   ]
  },
  {
   "cell_type": "markdown",
   "metadata": {},
   "source": [
    "## Top 3 Popular Classes Spanning All Universities"
   ]
  },
  {
   "cell_type": "code",
   "execution_count": 14,
   "metadata": {},
   "outputs": [
    {
     "data": {
      "text/html": [
       "<div>\n",
       "<style scoped>\n",
       "    .dataframe tbody tr th:only-of-type {\n",
       "        vertical-align: middle;\n",
       "    }\n",
       "\n",
       "    .dataframe tbody tr th {\n",
       "        vertical-align: top;\n",
       "    }\n",
       "\n",
       "    .dataframe thead th {\n",
       "        text-align: right;\n",
       "    }\n",
       "</style>\n",
       "<table border=\"1\" class=\"dataframe\">\n",
       "  <thead>\n",
       "    <tr style=\"text-align: right;\">\n",
       "      <th></th>\n",
       "      <th>subject</th>\n",
       "      <th>enrolments</th>\n",
       "    </tr>\n",
       "  </thead>\n",
       "  <tbody>\n",
       "    <tr>\n",
       "      <th>0</th>\n",
       "      <td>mathematics</td>\n",
       "      <td>3072</td>\n",
       "    </tr>\n",
       "    <tr>\n",
       "      <th>1</th>\n",
       "      <td>physics</td>\n",
       "      <td>3072</td>\n",
       "    </tr>\n",
       "    <tr>\n",
       "      <th>2</th>\n",
       "      <td>soc studies</td>\n",
       "      <td>3072</td>\n",
       "    </tr>\n",
       "  </tbody>\n",
       "</table>\n",
       "</div>"
      ],
      "text/plain": [
       "       subject  enrolments\n",
       "0  mathematics        3072\n",
       "1      physics        3072\n",
       "2  soc studies        3072"
      ]
     },
     "execution_count": 14,
     "metadata": {},
     "output_type": "execute_result"
    }
   ],
   "source": [
    "pd.read_sql_query(\n",
    "    \"\"\"\n",
    "    SELECT subject, count(*) as enrolments\n",
    "    FROM grades\n",
    "    GROUP BY subject\n",
    "    ORDER BY enrolments DESC\n",
    "    LIMIT 3;\n",
    "    \"\"\"\n",
    "    , engine)"
   ]
  },
  {
   "cell_type": "markdown",
   "metadata": {},
   "source": [
    "## Courses Offered by No More than One University"
   ]
  },
  {
   "cell_type": "code",
   "execution_count": 15,
   "metadata": {},
   "outputs": [
    {
     "data": {
      "text/html": [
       "<div>\n",
       "<style scoped>\n",
       "    .dataframe tbody tr th:only-of-type {\n",
       "        vertical-align: middle;\n",
       "    }\n",
       "\n",
       "    .dataframe tbody tr th {\n",
       "        vertical-align: top;\n",
       "    }\n",
       "\n",
       "    .dataframe thead th {\n",
       "        text-align: right;\n",
       "    }\n",
       "</style>\n",
       "<table border=\"1\" class=\"dataframe\">\n",
       "  <thead>\n",
       "    <tr style=\"text-align: right;\">\n",
       "      <th></th>\n",
       "      <th>subject</th>\n",
       "      <th>university_count</th>\n",
       "    </tr>\n",
       "  </thead>\n",
       "  <tbody>\n",
       "    <tr>\n",
       "      <th>0</th>\n",
       "      <td>ancient history</td>\n",
       "      <td>1</td>\n",
       "    </tr>\n",
       "    <tr>\n",
       "      <th>1</th>\n",
       "      <td>biology</td>\n",
       "      <td>1</td>\n",
       "    </tr>\n",
       "    <tr>\n",
       "      <th>2</th>\n",
       "      <td>bus. administration</td>\n",
       "      <td>1</td>\n",
       "    </tr>\n",
       "    <tr>\n",
       "      <th>3</th>\n",
       "      <td>computer science</td>\n",
       "      <td>1</td>\n",
       "    </tr>\n",
       "    <tr>\n",
       "      <th>4</th>\n",
       "      <td>economics</td>\n",
       "      <td>1</td>\n",
       "    </tr>\n",
       "    <tr>\n",
       "      <th>5</th>\n",
       "      <td>history</td>\n",
       "      <td>1</td>\n",
       "    </tr>\n",
       "    <tr>\n",
       "      <th>6</th>\n",
       "      <td>neural networks</td>\n",
       "      <td>1</td>\n",
       "    </tr>\n",
       "  </tbody>\n",
       "</table>\n",
       "</div>"
      ],
      "text/plain": [
       "               subject  university_count\n",
       "0      ancient history                 1\n",
       "1              biology                 1\n",
       "2  bus. administration                 1\n",
       "3     computer science                 1\n",
       "4            economics                 1\n",
       "5              history                 1\n",
       "6      neural networks                 1"
      ]
     },
     "execution_count": 15,
     "metadata": {},
     "output_type": "execute_result"
    }
   ],
   "source": [
    "pd.read_sql_query(\n",
    "    \"\"\"\n",
    "    SELECT subject, university_count\n",
    "    FROM (SELECT subject, count(*) as university_count\n",
    "          FROM (SELECT DISTINCT university, subject\n",
    "                FROM grades) university_subject\n",
    "          GROUP BY subject) subject_university_count\n",
    "    WHERE university_count = 1\n",
    "    ORDER BY subject;\n",
    "    \"\"\"\n",
    "    , engine)"
   ]
  },
  {
   "cell_type": "markdown",
   "metadata": {},
   "source": [
    "## Passing Rate at Each University"
   ]
  },
  {
   "cell_type": "markdown",
   "metadata": {},
   "source": [
    "### Passing Count per University"
   ]
  },
  {
   "cell_type": "code",
   "execution_count": 16,
   "metadata": {},
   "outputs": [
    {
     "data": {
      "text/html": [
       "<div>\n",
       "<style scoped>\n",
       "    .dataframe tbody tr th:only-of-type {\n",
       "        vertical-align: middle;\n",
       "    }\n",
       "\n",
       "    .dataframe tbody tr th {\n",
       "        vertical-align: top;\n",
       "    }\n",
       "\n",
       "    .dataframe thead th {\n",
       "        text-align: right;\n",
       "    }\n",
       "</style>\n",
       "<table border=\"1\" class=\"dataframe\">\n",
       "  <thead>\n",
       "    <tr style=\"text-align: right;\">\n",
       "      <th></th>\n",
       "      <th>university</th>\n",
       "      <th>passing_count</th>\n",
       "    </tr>\n",
       "  </thead>\n",
       "  <tbody>\n",
       "    <tr>\n",
       "      <th>0</th>\n",
       "      <td>uni3</td>\n",
       "      <td>2684</td>\n",
       "    </tr>\n",
       "    <tr>\n",
       "      <th>1</th>\n",
       "      <td>uni2</td>\n",
       "      <td>3633</td>\n",
       "    </tr>\n",
       "    <tr>\n",
       "      <th>2</th>\n",
       "      <td>uni1</td>\n",
       "      <td>3672</td>\n",
       "    </tr>\n",
       "  </tbody>\n",
       "</table>\n",
       "</div>"
      ],
      "text/plain": [
       "  university  passing_count\n",
       "0       uni3           2684\n",
       "1       uni2           3633\n",
       "2       uni1           3672"
      ]
     },
     "execution_count": 16,
     "metadata": {},
     "output_type": "execute_result"
    }
   ],
   "source": [
    "university_passing_count_df = pd.read_sql_query(\n",
    "    \"\"\"\n",
    "    SELECT university, count(*) passing_count\n",
    "    FROM (SELECT * FROM grades\n",
    "          WHERE grade IN ('A+', 'A', 'A-', 'B+', 'B', 'B-', 'C+', 'C', 'C-') OR \n",
    "                (grade ~ '[0-9]+\\.[0-9]+' AND grade::numeric >= 50)) university_passing_count\n",
    "    GROUP BY university;\n",
    "    \"\"\"\n",
    "    , engine)\n",
    "university_passing_count_df"
   ]
  },
  {
   "cell_type": "markdown",
   "metadata": {},
   "source": [
    "### Student Count per University"
   ]
  },
  {
   "cell_type": "code",
   "execution_count": 17,
   "metadata": {},
   "outputs": [
    {
     "data": {
      "text/html": [
       "<div>\n",
       "<style scoped>\n",
       "    .dataframe tbody tr th:only-of-type {\n",
       "        vertical-align: middle;\n",
       "    }\n",
       "\n",
       "    .dataframe tbody tr th {\n",
       "        vertical-align: top;\n",
       "    }\n",
       "\n",
       "    .dataframe thead th {\n",
       "        text-align: right;\n",
       "    }\n",
       "</style>\n",
       "<table border=\"1\" class=\"dataframe\">\n",
       "  <thead>\n",
       "    <tr style=\"text-align: right;\">\n",
       "      <th></th>\n",
       "      <th>university</th>\n",
       "      <th>student_count</th>\n",
       "    </tr>\n",
       "  </thead>\n",
       "  <tbody>\n",
       "    <tr>\n",
       "      <th>0</th>\n",
       "      <td>uni3</td>\n",
       "      <td>6144</td>\n",
       "    </tr>\n",
       "    <tr>\n",
       "      <th>1</th>\n",
       "      <td>uni2</td>\n",
       "      <td>8192</td>\n",
       "    </tr>\n",
       "    <tr>\n",
       "      <th>2</th>\n",
       "      <td>uni1</td>\n",
       "      <td>6144</td>\n",
       "    </tr>\n",
       "  </tbody>\n",
       "</table>\n",
       "</div>"
      ],
      "text/plain": [
       "  university  student_count\n",
       "0       uni3           6144\n",
       "1       uni2           8192\n",
       "2       uni1           6144"
      ]
     },
     "execution_count": 17,
     "metadata": {},
     "output_type": "execute_result"
    }
   ],
   "source": [
    "university_count_df = pd.read_sql_query(\n",
    "    \"\"\"\n",
    "    SELECT university, count(*) student_count\n",
    "    FROM grades\n",
    "    GROUP BY university;\n",
    "    \"\"\"\n",
    "    , engine)\n",
    "university_count_df"
   ]
  },
  {
   "cell_type": "markdown",
   "metadata": {},
   "source": [
    "We need to join these results to be able to compute the passing rate:"
   ]
  },
  {
   "cell_type": "code",
   "execution_count": 18,
   "metadata": {},
   "outputs": [
    {
     "data": {
      "text/html": [
       "<div>\n",
       "<style scoped>\n",
       "    .dataframe tbody tr th:only-of-type {\n",
       "        vertical-align: middle;\n",
       "    }\n",
       "\n",
       "    .dataframe tbody tr th {\n",
       "        vertical-align: top;\n",
       "    }\n",
       "\n",
       "    .dataframe thead th {\n",
       "        text-align: right;\n",
       "    }\n",
       "</style>\n",
       "<table border=\"1\" class=\"dataframe\">\n",
       "  <thead>\n",
       "    <tr style=\"text-align: right;\">\n",
       "      <th></th>\n",
       "      <th>student_count</th>\n",
       "      <th>passing_count</th>\n",
       "    </tr>\n",
       "    <tr>\n",
       "      <th>university</th>\n",
       "      <th></th>\n",
       "      <th></th>\n",
       "    </tr>\n",
       "  </thead>\n",
       "  <tbody>\n",
       "    <tr>\n",
       "      <th>uni3</th>\n",
       "      <td>6144</td>\n",
       "      <td>2684</td>\n",
       "    </tr>\n",
       "    <tr>\n",
       "      <th>uni2</th>\n",
       "      <td>8192</td>\n",
       "      <td>3633</td>\n",
       "    </tr>\n",
       "    <tr>\n",
       "      <th>uni1</th>\n",
       "      <td>6144</td>\n",
       "      <td>3672</td>\n",
       "    </tr>\n",
       "  </tbody>\n",
       "</table>\n",
       "</div>"
      ],
      "text/plain": [
       "            student_count  passing_count\n",
       "university                              \n",
       "uni3                 6144           2684\n",
       "uni2                 8192           3633\n",
       "uni1                 6144           3672"
      ]
     },
     "execution_count": 18,
     "metadata": {},
     "output_type": "execute_result"
    }
   ],
   "source": [
    "university_stats_df = \\\n",
    "    university_count_df.set_index('university')\\\n",
    "        .join(university_passing_count_df.set_index('university'))\n",
    "university_stats_df"
   ]
  },
  {
   "cell_type": "markdown",
   "metadata": {},
   "source": [
    "### Final Results"
   ]
  },
  {
   "cell_type": "markdown",
   "metadata": {},
   "source": [
    "Here are the passing rates per university:"
   ]
  },
  {
   "cell_type": "code",
   "execution_count": 19,
   "metadata": {},
   "outputs": [
    {
     "data": {
      "text/html": [
       "<div>\n",
       "<style scoped>\n",
       "    .dataframe tbody tr th:only-of-type {\n",
       "        vertical-align: middle;\n",
       "    }\n",
       "\n",
       "    .dataframe tbody tr th {\n",
       "        vertical-align: top;\n",
       "    }\n",
       "\n",
       "    .dataframe thead th {\n",
       "        text-align: right;\n",
       "    }\n",
       "</style>\n",
       "<table border=\"1\" class=\"dataframe\">\n",
       "  <thead>\n",
       "    <tr style=\"text-align: right;\">\n",
       "      <th></th>\n",
       "      <th>student_count</th>\n",
       "      <th>passing_count</th>\n",
       "      <th>passing_rate</th>\n",
       "    </tr>\n",
       "    <tr>\n",
       "      <th>university</th>\n",
       "      <th></th>\n",
       "      <th></th>\n",
       "      <th></th>\n",
       "    </tr>\n",
       "  </thead>\n",
       "  <tbody>\n",
       "    <tr>\n",
       "      <th>uni3</th>\n",
       "      <td>6144</td>\n",
       "      <td>2684</td>\n",
       "      <td>43.68</td>\n",
       "    </tr>\n",
       "    <tr>\n",
       "      <th>uni2</th>\n",
       "      <td>8192</td>\n",
       "      <td>3633</td>\n",
       "      <td>44.35</td>\n",
       "    </tr>\n",
       "    <tr>\n",
       "      <th>uni1</th>\n",
       "      <td>6144</td>\n",
       "      <td>3672</td>\n",
       "      <td>59.77</td>\n",
       "    </tr>\n",
       "  </tbody>\n",
       "</table>\n",
       "</div>"
      ],
      "text/plain": [
       "            student_count  passing_count  passing_rate\n",
       "university                                            \n",
       "uni3                 6144           2684         43.68\n",
       "uni2                 8192           3633         44.35\n",
       "uni1                 6144           3672         59.77"
      ]
     },
     "execution_count": 19,
     "metadata": {},
     "output_type": "execute_result"
    }
   ],
   "source": [
    "university_stats_df['passing_rate'] = \\\n",
    "    university_stats_df\\\n",
    "        .apply(lambda row: row.passing_count / row.student_count * 100, axis=1)\\\n",
    "        .round(2)\n",
    "university_stats_df"
   ]
  },
  {
   "cell_type": "code",
   "execution_count": null,
   "metadata": {},
   "outputs": [],
   "source": []
  }
 ],
 "metadata": {
  "kernelspec": {
   "display_name": "Python 3",
   "language": "python",
   "name": "python3"
  },
  "language_info": {
   "codemirror_mode": {
    "name": "ipython",
    "version": 3
   },
   "file_extension": ".py",
   "mimetype": "text/x-python",
   "name": "python",
   "nbconvert_exporter": "python",
   "pygments_lexer": "ipython3",
   "version": "3.8.5"
  }
 },
 "nbformat": 4,
 "nbformat_minor": 4
}
